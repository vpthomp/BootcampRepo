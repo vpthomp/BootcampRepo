{
 "cells": [
  {
   "cell_type": "code",
   "execution_count": 1,
   "metadata": {},
   "outputs": [],
   "source": [
    "%matplotlib inline\n",
    "# Dependencies and Setup\n",
    "import matplotlib.pyplot as plt\n",
    "import pandas as pd\n",
    "import numpy as np\n",
    "\n",
    "# Read the City and Ride Data\n",
    "city_data = pd.read_csv(\"data/city_data.csv\")\n",
    "ride_data = pd.read_csv(\"data/ride_data.csv\")\n"
   ]
  },
  {
   "cell_type": "code",
   "execution_count": 4,
   "metadata": {},
   "outputs": [
    {
     "data": {
      "text/html": [
       "<div>\n",
       "<style scoped>\n",
       "    .dataframe tbody tr th:only-of-type {\n",
       "        vertical-align: middle;\n",
       "    }\n",
       "\n",
       "    .dataframe tbody tr th {\n",
       "        vertical-align: top;\n",
       "    }\n",
       "\n",
       "    .dataframe thead th {\n",
       "        text-align: right;\n",
       "    }\n",
       "</style>\n",
       "<table border=\"1\" class=\"dataframe\">\n",
       "  <thead>\n",
       "    <tr style=\"text-align: right;\">\n",
       "      <th></th>\n",
       "      <th>city</th>\n",
       "      <th>driver_count</th>\n",
       "      <th>type</th>\n",
       "    </tr>\n",
       "  </thead>\n",
       "  <tbody>\n",
       "    <tr>\n",
       "      <th>0</th>\n",
       "      <td>Richardfort</td>\n",
       "      <td>38</td>\n",
       "      <td>Urban</td>\n",
       "    </tr>\n",
       "    <tr>\n",
       "      <th>1</th>\n",
       "      <td>Williamsstad</td>\n",
       "      <td>59</td>\n",
       "      <td>Urban</td>\n",
       "    </tr>\n",
       "    <tr>\n",
       "      <th>2</th>\n",
       "      <td>Port Angela</td>\n",
       "      <td>67</td>\n",
       "      <td>Urban</td>\n",
       "    </tr>\n",
       "    <tr>\n",
       "      <th>3</th>\n",
       "      <td>Rodneyfort</td>\n",
       "      <td>34</td>\n",
       "      <td>Urban</td>\n",
       "    </tr>\n",
       "    <tr>\n",
       "      <th>4</th>\n",
       "      <td>West Robert</td>\n",
       "      <td>39</td>\n",
       "      <td>Urban</td>\n",
       "    </tr>\n",
       "  </tbody>\n",
       "</table>\n",
       "</div>"
      ],
      "text/plain": [
       "           city  driver_count   type\n",
       "0   Richardfort            38  Urban\n",
       "1  Williamsstad            59  Urban\n",
       "2   Port Angela            67  Urban\n",
       "3    Rodneyfort            34  Urban\n",
       "4   West Robert            39  Urban"
      ]
     },
     "execution_count": 4,
     "metadata": {},
     "output_type": "execute_result"
    }
   ],
   "source": [
    "#Look at city data\n",
    "city_data.head()"
   ]
  },
  {
   "cell_type": "code",
   "execution_count": 3,
   "metadata": {},
   "outputs": [
    {
     "data": {
      "text/html": [
       "<div>\n",
       "<style scoped>\n",
       "    .dataframe tbody tr th:only-of-type {\n",
       "        vertical-align: middle;\n",
       "    }\n",
       "\n",
       "    .dataframe tbody tr th {\n",
       "        vertical-align: top;\n",
       "    }\n",
       "\n",
       "    .dataframe thead th {\n",
       "        text-align: right;\n",
       "    }\n",
       "</style>\n",
       "<table border=\"1\" class=\"dataframe\">\n",
       "  <thead>\n",
       "    <tr style=\"text-align: right;\">\n",
       "      <th></th>\n",
       "      <th>city</th>\n",
       "      <th>date</th>\n",
       "      <th>fare</th>\n",
       "      <th>ride_id</th>\n",
       "    </tr>\n",
       "  </thead>\n",
       "  <tbody>\n",
       "    <tr>\n",
       "      <th>0</th>\n",
       "      <td>Lake Jonathanshire</td>\n",
       "      <td>2018-01-14 10:14:22</td>\n",
       "      <td>13.83</td>\n",
       "      <td>5739410935873</td>\n",
       "    </tr>\n",
       "    <tr>\n",
       "      <th>1</th>\n",
       "      <td>South Michelleport</td>\n",
       "      <td>2018-03-04 18:24:09</td>\n",
       "      <td>30.24</td>\n",
       "      <td>2343912425577</td>\n",
       "    </tr>\n",
       "    <tr>\n",
       "      <th>2</th>\n",
       "      <td>Port Samanthamouth</td>\n",
       "      <td>2018-02-24 04:29:00</td>\n",
       "      <td>33.44</td>\n",
       "      <td>2005065760003</td>\n",
       "    </tr>\n",
       "    <tr>\n",
       "      <th>3</th>\n",
       "      <td>Rodneyfort</td>\n",
       "      <td>2018-02-10 23:22:03</td>\n",
       "      <td>23.44</td>\n",
       "      <td>5149245426178</td>\n",
       "    </tr>\n",
       "    <tr>\n",
       "      <th>4</th>\n",
       "      <td>South Jack</td>\n",
       "      <td>2018-03-06 04:28:35</td>\n",
       "      <td>34.58</td>\n",
       "      <td>3908451377344</td>\n",
       "    </tr>\n",
       "  </tbody>\n",
       "</table>\n",
       "</div>"
      ],
      "text/plain": [
       "                 city                 date   fare        ride_id\n",
       "0  Lake Jonathanshire  2018-01-14 10:14:22  13.83  5739410935873\n",
       "1  South Michelleport  2018-03-04 18:24:09  30.24  2343912425577\n",
       "2  Port Samanthamouth  2018-02-24 04:29:00  33.44  2005065760003\n",
       "3          Rodneyfort  2018-02-10 23:22:03  23.44  5149245426178\n",
       "4          South Jack  2018-03-06 04:28:35  34.58  3908451377344"
      ]
     },
     "execution_count": 3,
     "metadata": {},
     "output_type": "execute_result"
    }
   ],
   "source": [
    "#Look at city data\n",
    "ride_data.head()"
   ]
  },
  {
   "cell_type": "code",
   "execution_count": 6,
   "metadata": {
    "scrolled": true
   },
   "outputs": [
    {
     "data": {
      "text/html": [
       "<div>\n",
       "<style scoped>\n",
       "    .dataframe tbody tr th:only-of-type {\n",
       "        vertical-align: middle;\n",
       "    }\n",
       "\n",
       "    .dataframe tbody tr th {\n",
       "        vertical-align: top;\n",
       "    }\n",
       "\n",
       "    .dataframe thead th {\n",
       "        text-align: right;\n",
       "    }\n",
       "</style>\n",
       "<table border=\"1\" class=\"dataframe\">\n",
       "  <thead>\n",
       "    <tr style=\"text-align: right;\">\n",
       "      <th></th>\n",
       "      <th>city</th>\n",
       "      <th>driver_count</th>\n",
       "      <th>type</th>\n",
       "      <th>date</th>\n",
       "      <th>fare</th>\n",
       "      <th>ride_id</th>\n",
       "    </tr>\n",
       "  </thead>\n",
       "  <tbody>\n",
       "    <tr>\n",
       "      <th>0</th>\n",
       "      <td>Richardfort</td>\n",
       "      <td>38</td>\n",
       "      <td>Urban</td>\n",
       "      <td>2018-02-24 08:40:38</td>\n",
       "      <td>13.93</td>\n",
       "      <td>5628545007794</td>\n",
       "    </tr>\n",
       "    <tr>\n",
       "      <th>1</th>\n",
       "      <td>Richardfort</td>\n",
       "      <td>38</td>\n",
       "      <td>Urban</td>\n",
       "      <td>2018-02-13 12:46:07</td>\n",
       "      <td>14.00</td>\n",
       "      <td>910050116494</td>\n",
       "    </tr>\n",
       "    <tr>\n",
       "      <th>2</th>\n",
       "      <td>Richardfort</td>\n",
       "      <td>38</td>\n",
       "      <td>Urban</td>\n",
       "      <td>2018-02-16 13:52:19</td>\n",
       "      <td>17.92</td>\n",
       "      <td>820639054416</td>\n",
       "    </tr>\n",
       "    <tr>\n",
       "      <th>3</th>\n",
       "      <td>Richardfort</td>\n",
       "      <td>38</td>\n",
       "      <td>Urban</td>\n",
       "      <td>2018-02-01 20:18:28</td>\n",
       "      <td>10.26</td>\n",
       "      <td>9554935945413</td>\n",
       "    </tr>\n",
       "    <tr>\n",
       "      <th>4</th>\n",
       "      <td>Richardfort</td>\n",
       "      <td>38</td>\n",
       "      <td>Urban</td>\n",
       "      <td>2018-04-17 02:26:37</td>\n",
       "      <td>23.00</td>\n",
       "      <td>720020655850</td>\n",
       "    </tr>\n",
       "  </tbody>\n",
       "</table>\n",
       "</div>"
      ],
      "text/plain": [
       "          city  driver_count   type                 date   fare        ride_id\n",
       "0  Richardfort            38  Urban  2018-02-24 08:40:38  13.93  5628545007794\n",
       "1  Richardfort            38  Urban  2018-02-13 12:46:07  14.00   910050116494\n",
       "2  Richardfort            38  Urban  2018-02-16 13:52:19  17.92   820639054416\n",
       "3  Richardfort            38  Urban  2018-02-01 20:18:28  10.26  9554935945413\n",
       "4  Richardfort            38  Urban  2018-04-17 02:26:37  23.00   720020655850"
      ]
     },
     "execution_count": 6,
     "metadata": {},
     "output_type": "execute_result"
    }
   ],
   "source": [
    "# Combine the data into a single dataset\n",
    "city_ride = pd.merge(city_data, ride_data, how='outer', on='city')\n",
    "city_ride.head()"
   ]
  },
  {
   "cell_type": "code",
   "execution_count": 7,
   "metadata": {},
   "outputs": [
    {
     "data": {
      "text/plain": [
       "array(['Urban', 'Suburban', 'Rural'], dtype=object)"
      ]
     },
     "execution_count": 7,
     "metadata": {},
     "output_type": "execute_result"
    }
   ],
   "source": [
    "#determine city types\n",
    "city_ride['type'].unique()"
   ]
  },
  {
   "cell_type": "code",
   "execution_count": 10,
   "metadata": {},
   "outputs": [
    {
     "data": {
      "text/plain": [
       "West Angela             39\n",
       "South Karenland         38\n",
       "North Jason             35\n",
       "Port Frank              33\n",
       "Liumouth                33\n",
       "South Phillip           31\n",
       "South Evanton           31\n",
       "West Robert             31\n",
       "South Michelleport      31\n",
       "New Kimberlyborough     30\n",
       "Justinberg              30\n",
       "West Anthony            30\n",
       "North Jasmine           30\n",
       "Royland                 30\n",
       "East Kaylahaven         29\n",
       "Hurleymouth             28\n",
       "Karenside               28\n",
       "Loganberg               28\n",
       "West Heidi              28\n",
       "Richardfort             28\n",
       "East Marymouth          27\n",
       "Christopherfurt         27\n",
       "Carriemouth             27\n",
       "Josephside              27\n",
       "Lake Danielberg         26\n",
       "West Christopherberg    26\n",
       "West Josephberg         26\n",
       "Port Samanthamouth      25\n",
       "West Samuelburgh        25\n",
       "Joneschester            25\n",
       "                        ..\n",
       "Lake Omar               14\n",
       "Victoriaport            14\n",
       "North Markport          14\n",
       "North Richardhaven      14\n",
       "Williamsonville         14\n",
       "North Jeffrey           13\n",
       "East Kentstad           13\n",
       "Lewishaven              12\n",
       "Erikaland               12\n",
       "Michaelberg             12\n",
       "Lake Ann                12\n",
       "Lake Latoyabury         11\n",
       "Sotoville               11\n",
       "Bradshawfurt            10\n",
       "West Heather             9\n",
       "North Holly              9\n",
       "East Aaronbury           9\n",
       "South Marychester        8\n",
       "North Jaime              8\n",
       "South Jennifer           7\n",
       "New Ryantown             6\n",
       "Taylorhaven              6\n",
       "Harringtonfort           6\n",
       "Jessicaport              6\n",
       "Lake Jamie               6\n",
       "Penaborough              5\n",
       "Randallchester           5\n",
       "Newtonview               4\n",
       "South Saramouth          4\n",
       "Garzaport                3\n",
       "Name: city, Length: 120, dtype: int64"
      ]
     },
     "execution_count": 10,
     "metadata": {},
     "output_type": "execute_result"
    }
   ],
   "source": [
    "#determine distinct cities and number of occurances\n",
    "city_ride['city'].value_counts()"
   ]
  },
  {
   "cell_type": "markdown",
   "metadata": {},
   "source": [
    "## Bubble Plot of Ride Sharing Data"
   ]
  },
  {
   "cell_type": "code",
   "execution_count": 2,
   "metadata": {},
   "outputs": [],
   "source": [
    "#INSTRUCTIONS\n",
    "# Obtain the x and y coordinates for each of the three city types\n",
    "# Build the scatter plots for each city types\n",
    "# Incorporate the other graph properties\n",
    "# Create a legend\n",
    "# Incorporate a text label regarding circle size\n",
    "# Save Figure\n",
    "# Make Grader Laugh"
   ]
  },
  {
   "cell_type": "code",
   "execution_count": 55,
   "metadata": {},
   "outputs": [],
   "source": [
    "#Create separate data frames based on each city types as determined above using city_ride.unique()\n",
    "urbs = city_ride.loc[(city_ride[\"type\"] == \"Urban\")]\n",
    "burbs = city_ride.loc[(city_ride[\"type\"] == \"Suburban\")]\n",
    "bethesda = city_ride.loc[(city_ride[\"type\"] == \"Rural\")]"
   ]
  },
  {
   "cell_type": "code",
   "execution_count": 56,
   "metadata": {},
   "outputs": [
    {
     "data": {
      "text/html": [
       "<div>\n",
       "<style scoped>\n",
       "    .dataframe tbody tr th:only-of-type {\n",
       "        vertical-align: middle;\n",
       "    }\n",
       "\n",
       "    .dataframe tbody tr th {\n",
       "        vertical-align: top;\n",
       "    }\n",
       "\n",
       "    .dataframe thead th {\n",
       "        text-align: right;\n",
       "    }\n",
       "</style>\n",
       "<table border=\"1\" class=\"dataframe\">\n",
       "  <thead>\n",
       "    <tr style=\"text-align: right;\">\n",
       "      <th></th>\n",
       "      <th>city</th>\n",
       "      <th>driver_count</th>\n",
       "      <th>type</th>\n",
       "      <th>date</th>\n",
       "      <th>fare</th>\n",
       "      <th>ride_id</th>\n",
       "    </tr>\n",
       "  </thead>\n",
       "  <tbody>\n",
       "    <tr>\n",
       "      <th>2250</th>\n",
       "      <td>South Jennifer</td>\n",
       "      <td>7</td>\n",
       "      <td>Rural</td>\n",
       "      <td>2018-04-01 09:32:45</td>\n",
       "      <td>21.63</td>\n",
       "      <td>9135979586871</td>\n",
       "    </tr>\n",
       "    <tr>\n",
       "      <th>2251</th>\n",
       "      <td>South Jennifer</td>\n",
       "      <td>7</td>\n",
       "      <td>Rural</td>\n",
       "      <td>2018-03-07 19:10:13</td>\n",
       "      <td>48.79</td>\n",
       "      <td>9730627367446</td>\n",
       "    </tr>\n",
       "    <tr>\n",
       "      <th>2252</th>\n",
       "      <td>South Jennifer</td>\n",
       "      <td>7</td>\n",
       "      <td>Rural</td>\n",
       "      <td>2018-04-05 14:35:42</td>\n",
       "      <td>32.20</td>\n",
       "      <td>683983658392</td>\n",
       "    </tr>\n",
       "    <tr>\n",
       "      <th>2253</th>\n",
       "      <td>South Jennifer</td>\n",
       "      <td>7</td>\n",
       "      <td>Rural</td>\n",
       "      <td>2018-04-02 10:26:50</td>\n",
       "      <td>14.11</td>\n",
       "      <td>3828267773041</td>\n",
       "    </tr>\n",
       "    <tr>\n",
       "      <th>2254</th>\n",
       "      <td>South Jennifer</td>\n",
       "      <td>7</td>\n",
       "      <td>Rural</td>\n",
       "      <td>2018-04-10 20:46:11</td>\n",
       "      <td>43.25</td>\n",
       "      <td>623928772332</td>\n",
       "    </tr>\n",
       "  </tbody>\n",
       "</table>\n",
       "</div>"
      ],
      "text/plain": [
       "                city  driver_count   type                 date   fare  \\\n",
       "2250  South Jennifer             7  Rural  2018-04-01 09:32:45  21.63   \n",
       "2251  South Jennifer             7  Rural  2018-03-07 19:10:13  48.79   \n",
       "2252  South Jennifer             7  Rural  2018-04-05 14:35:42  32.20   \n",
       "2253  South Jennifer             7  Rural  2018-04-02 10:26:50  14.11   \n",
       "2254  South Jennifer             7  Rural  2018-04-10 20:46:11  43.25   \n",
       "\n",
       "            ride_id  \n",
       "2250  9135979586871  \n",
       "2251  9730627367446  \n",
       "2252   683983658392  \n",
       "2253  3828267773041  \n",
       "2254   623928772332  "
      ]
     },
     "execution_count": 56,
     "metadata": {},
     "output_type": "execute_result"
    }
   ],
   "source": [
    "#verify new dataframes\n",
    "bethesda.head()"
   ]
  },
  {
   "cell_type": "code",
   "execution_count": null,
   "metadata": {},
   "outputs": [],
   "source": [
    "#Your objective is to build a Bubble Plot that showcases the relationship between four key variables:\n",
    "# Average Fare ($) Per City\n",
    "# Total Number of Rides Per City\n",
    "# Total Number of Drivers Per City\n",
    "# City Type (Urban, Suburban, Rural)"
   ]
  },
  {
   "cell_type": "code",
   "execution_count": 57,
   "metadata": {},
   "outputs": [],
   "source": [
    "# Average Fare ($), Total Number of Rides and Total Number of Drivers for Urbs cities\n",
    "avg_fare_urbs = urbs.groupby(['city'])['fare'].mean()\n",
    "total_rides_urbs = urbs.groupby(['city']).count()['ride_id']\n",
    "total_drivers_urbs = urbs.groupby(['city'])['driver_count'].value_counts()\n",
    "\n",
    "# Average Fare ($), Total Number of Rides and Total Number of Drivers for Burbs cities\n",
    "avg_fare_burbs = burbs.groupby(['city'])['fare'].mean()\n",
    "total_rides_burbs = burbs.groupby(['city']).count()['ride_id']\n",
    "total_drivers_burbs = burbs.groupby(['city'])['driver_count'].value_counts()\n",
    "\n",
    "# Average Fare ($), Total Number of Rides and Total Number of Drivers for Rural cities\n",
    "avg_fare_rural = bethesda.groupby(['city'])['fare'].mean()\n",
    "total_rides_rural = bethesda.groupby(['city']).count()['ride_id']\n",
    "total_drivers_rural = bethesda.groupby(['city'])['driver_count'].value_counts()"
   ]
  },
  {
   "cell_type": "code",
   "execution_count": 58,
   "metadata": {},
   "outputs": [
    {
     "data": {
      "text/plain": [
       "city           driver_count\n",
       "Barronchester  11              16\n",
       "Bethanyland    22              18\n",
       "Brandonfort    10              19\n",
       "Colemanland    23              22\n",
       "Davidfurt      23              17\n",
       "Name: driver_count, dtype: int64"
      ]
     },
     "execution_count": 58,
     "metadata": {},
     "output_type": "execute_result"
    }
   ],
   "source": [
    "#verify\n",
    "total_drivers_burbs.head()"
   ]
  },
  {
   "cell_type": "code",
   "execution_count": 59,
   "metadata": {},
   "outputs": [
    {
     "data": {
      "image/png": "[encoded data removed]",
      "text/plain": [
       "<Figure size 432x288 with 1 Axes>"
      ]
     },
     "metadata": {
      "needs_background": "light"
     },
     "output_type": "display_data"
    }
   ],
   "source": [
    "# Build the scatter plots for each city type\n",
    "plt.scatter(total_rides_urbs, avg_fare_urbs,s=total_drivers_urbs*10,\n",
    "            marker ='o', facecolors =\"lightgreen\", edgecolors='black',alpha = 0.5, label=\"Urban\")\n",
    "\n",
    "plt.scatter(total_rides_burbs, avg_fare_burbs,s=total_drivers_burbs*10,\n",
    "            marker ='o', facecolors =\"lightpink\", edgecolors='black',alpha = 0.5, label=\"Suburban\")\n",
    "\n",
    "plt.scatter(total_rides_rural, avg_fare_rural,s=total_drivers_rural*10,\n",
    "            marker ='o', facecolors =\"lightblue\", edgecolors='black',alpha = 0.5, label=\"Rural\")\n",
    "\n",
    "# Chart title\n",
    "plt.title(\"Ride Sharing Data\")\n",
    "# x label\n",
    "plt.xlabel(\"Total Numbers of Rides Per City\")\n",
    "# y label\n",
    "plt.ylabel(\"Average Fare($)\")\n",
    "# legend \n",
    "plt.legend(loc='upper right')\n",
    "\n",
    "# Save an image of the chart and print to screen\n",
    "plt.savefig(\"Data/Pyber Ride Sharing.png\")\n",
    "plt.show()"
   ]
  },
  {
   "cell_type": "markdown",
   "metadata": {},
   "source": [
    "## Total Fares by City Type"
   ]
  },
  {
   "cell_type": "code",
   "execution_count": 60,
   "metadata": {},
   "outputs": [
    {
     "data": {
      "image/png": "[encoded data removed]",
      "text/plain": [
       "<Figure size 432x288 with 1 Axes>"
      ]
     },
     "metadata": {},
     "output_type": "display_data"
    }
   ],
   "source": [
    "# Calculate Type Percents\n",
    "total_fare = city_ride.groupby(['type'])['fare'].sum()\n",
    "\n",
    "# pie chart labels\n",
    "chart_labels = [\"Rural\",\"Suburban\",\"Urban\" ]\n",
    "\n",
    "# pick your easter egg colors\n",
    "colors = [\"lightgreen\",\"lightpink\",\"lightblue\"]\n",
    "explode = (0, 0, 0.1)\n",
    "plt.title(\"Total Fares By City Type\")\n",
    "plt.pie(total_fare, explode=explode, labels=chart_labels, colors=colors, autopct=\"%1.1f%%\",shadow=True, startangle=160)\n",
    "plt.axis(\"equal\")\n",
    "plt.savefig(\"data/Total Fares By City Type.png\")\n",
    "plt.show()\n",
    "#This pie chart is ready for a baby shower"
   ]
  },
  {
   "cell_type": "markdown",
   "metadata": {},
   "source": [
    "## Total Rides by City Type"
   ]
  },
  {
   "cell_type": "code",
   "execution_count": 47,
   "metadata": {},
   "outputs": [
    {
     "data": {
      "image/png": "[encoded data removed]",
      "text/plain": [
       "<Figure size 432x288 with 1 Axes>"
      ]
     },
     "metadata": {},
     "output_type": "display_data"
    }
   ],
   "source": [
    "# total Rides by City Type\n",
    "total_rides = city_ride.groupby(['type'])['ride_id'].count()\n",
    "\n",
    "# pie chart labels\n",
    "chart_labels = [\"Rural\",\"Suburban\",\"Urban\" ]\n",
    "\n",
    "# hitting the color wheel\n",
    "colors = [\"black\",\"red\",\"orange\"]\n",
    "explode = (0, 0, 0.1)\n",
    "plt.title(\"Total Rides By City Types\")\n",
    "plt.pie(total_rides, explode=explode, labels=chart_labels, colors=colors,\n",
    "        autopct=\"%1.1f%%\", shadow=True, startangle=140)\n",
    "plt.axis(\"equal\")\n",
    "plt.savefig(\"data/Total Rides By City Type.png\")\n",
    "plt.show()\n",
    "#what is PacMan eating?"
   ]
  },
  {
   "cell_type": "markdown",
   "metadata": {},
   "source": [
    "## Total Drivers by City Type"
   ]
  },
  {
   "cell_type": "code",
   "execution_count": 53,
   "metadata": {},
   "outputs": [
    {
     "data": {
      "image/png": "[encoded data removed]",
      "text/plain": [
       "<Figure size 432x288 with 1 Axes>"
      ]
     },
     "metadata": {},
     "output_type": "display_data"
    }
   ],
   "source": [
    "# total Drivers by City Type\n",
    "total_drivers = city_ride.groupby(['type'])['driver_count'].sum()\n",
    "\n",
    "# Labels for the sections of our pie chart\n",
    "chart_labels = [\"Rural\",\"Suburban\",\"Urban\" ]\n",
    "\n",
    "# How Beige can we get\n",
    "colors = [\"brown\",\"beige\",\"tan\"]\n",
    "explode = (0, 0, 0.1)\n",
    "plt.title(\"Total Drivers By City Type\")\n",
    "plt.pie(total_drivers, explode=explode, labels=chart_labels, colors=colors,\n",
    "        autopct=\"%1.1f%%\", shadow=True, startangle=140)\n",
    "plt.axis(\"equal\")\n",
    "plt.savefig(\"data/% of Total Drivers By City Types.png\")\n",
    "plt.show()\n",
    "#pantyhose colors from the eighties"
   ]
  },
  {
   "cell_type": "code",
   "execution_count": null,
   "metadata": {},
   "outputs": [],
   "source": [
    "#your welcome"
   ]
  }
 ],
 "metadata": {
  "anaconda-cloud": {},
  "kernelspec": {
   "display_name": "Python 3",
   "language": "python",
   "name": "python3"
  },
  "language_info": {
   "codemirror_mode": {
    "name": "ipython",
    "version": 3
   },
   "file_extension": ".py",
   "mimetype": "text/x-python",
   "name": "python",
   "nbconvert_exporter": "python",
   "pygments_lexer": "ipython3",
   "version": "3.7.1"
  }
 },
 "nbformat": 4,
 "nbformat_minor": 2
}
